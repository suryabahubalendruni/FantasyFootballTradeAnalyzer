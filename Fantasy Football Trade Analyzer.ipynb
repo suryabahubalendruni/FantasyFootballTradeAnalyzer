{
 "cells": [
  {
   "cell_type": "code",
   "execution_count": 1,
   "metadata": {
    "collapsed": true
   },
   "outputs": [],
   "source": [
    "import pandas as pd\n",
    "import numpy as np\n",
    "from bs4 import BeautifulSoup\n",
    "from urllib.request import urlopen, Request\n",
    "import re\n",
    "from nameparser import HumanName"
   ]
  },
  {
   "cell_type": "code",
   "execution_count": 2,
   "metadata": {
    "collapsed": true,
    "scrolled": true
   },
   "outputs": [],
   "source": [
    "def scrape_projections():\n",
    "    players_soup = BeautifulSoup(urlopen('https://www.fantasypros.com/nfl/cheatsheets/half-ppr.php').read(), 'lxml')\n",
    "    players_list = []\n",
    "    position_dict = {'Quarterbacks': 'QB',\n",
    "                     'Running Backs': 'RB',\n",
    "                     'Wide Receivers': 'WR',\n",
    "                     'Tight Ends': 'TE',\n",
    "                     'Kickers': 'K'\n",
    "                    }\n",
    "    for pos_group in players_soup.find('div', {'class': 'position player-list'}).findAll('div', {'class': re.compile('three columns')}):\n",
    "            num_players = len(pos_group.findAll('li'))\n",
    "            print('Starting {0}\\n'.format(pos_group.h5.string))\n",
    "            for i, player in enumerate(pos_group.findAll('li')):\n",
    "                if pos_group.h5.string in position_dict.keys():\n",
    "                    p_proj = {\"Name\": player.a.string,\n",
    "                              \"Team\": player.small.string,\n",
    "                              \"Position\": position_dict[pos_group.h5.string]\n",
    "                             }\n",
    "                    link = 'https://www.fantasypros.com' + player.a['href'].replace('players','projections')\n",
    "                    link = link + '?scoring=HALF' if p_proj['Position'] != 'QB' and p_proj['Position'] != 'K' else link\n",
    "                    p_soup = BeautifulSoup(urlopen(link).read(), 'lxml')\n",
    "                    p_table = p_soup.findAll('table', {'class': 'table table-bordered all-stats'})[1]\n",
    "                    p_proj.update(dict(zip([cat.string for cat in p_table.find('thead').findAll('th')], [float(stat.string) for stat in p_table.find('tbody').findAll('td')])))\n",
    "                    players_list.append(p_proj)\n",
    "                    if i%10==0:\n",
    "                        print('{0} of {1} completed.'.format(i, num_players))\n",
    "    players_df = pd.DataFrame(players_list)\n",
    "    \n",
    "    defense_soup = BeautifulSoup(urlopen('https://www.fantasypros.com/nfl/projections/dst.php?week=draft').read(), 'lxml')\n",
    "    defense_table = defense_soup.findAll('div', {'class':'mobile-table'})[0]\n",
    "    categories_list = [cat.string for cat in defense_table.find('thead').findAll('th')][1:]\n",
    "    categories_list[-1] = 'Points'\n",
    "    defense_list = []\n",
    "    for dst in defense_table.find('tbody').findAll('tr'):\n",
    "        dst_dict = {\"Name\": dst.a.string.split(' ')[-1].strip(), \n",
    "                    \"Position\": 'DST'\n",
    "                   }\n",
    "        dst_dict.update(zip(categories_list, [float(stat.string.replace(',','')) if stat.string is not None else 0 for stat in dst.findAll('td', {'class':'center'})]))\n",
    "        defense_list.append(dst_dict)\n",
    "    players_df = players_df.append(defense_list)\n",
    "    flex_positions = ['WR','RB','TE']\n",
    "    players_df['Flex'] = players_df.Position.apply(lambda pos: True if pos in flex_positions else False)\n",
    "    return players_df"
   ]
  },
  {
   "cell_type": "code",
   "execution_count": 3,
   "metadata": {
    "scrolled": false
   },
   "outputs": [
    {
     "name": "stdout",
     "output_type": "stream",
     "text": [
      "Starting Quarterbacks\n",
      "\n",
      "0 of 40 completed.\n",
      "10 of 40 completed.\n"
     ]
    },
    {
     "ename": "URLError",
     "evalue": "<urlopen error EOF occurred in violation of protocol (_ssl.c:749)>",
     "output_type": "error",
     "traceback": [
      "\u001b[0;31m---------------------------------------------------------------------------\u001b[0m",
      "\u001b[0;31mSSLEOFError\u001b[0m                               Traceback (most recent call last)",
      "\u001b[0;32m//anaconda/lib/python3.6/urllib/request.py\u001b[0m in \u001b[0;36mdo_open\u001b[0;34m(self, http_class, req, **http_conn_args)\u001b[0m\n\u001b[1;32m   1317\u001b[0m                 h.request(req.get_method(), req.selector, req.data, headers,\n\u001b[0;32m-> 1318\u001b[0;31m                           encode_chunked=req.has_header('Transfer-encoding'))\n\u001b[0m\u001b[1;32m   1319\u001b[0m             \u001b[0;32mexcept\u001b[0m \u001b[0mOSError\u001b[0m \u001b[0;32mas\u001b[0m \u001b[0merr\u001b[0m\u001b[0;34m:\u001b[0m \u001b[0;31m# timeout error\u001b[0m\u001b[0;34m\u001b[0m\u001b[0m\n",
      "\u001b[0;32m//anaconda/lib/python3.6/http/client.py\u001b[0m in \u001b[0;36mrequest\u001b[0;34m(self, method, url, body, headers, encode_chunked)\u001b[0m\n\u001b[1;32m   1238\u001b[0m         \u001b[0;34m\"\"\"Send a complete request to the server.\"\"\"\u001b[0m\u001b[0;34m\u001b[0m\u001b[0m\n\u001b[0;32m-> 1239\u001b[0;31m         \u001b[0mself\u001b[0m\u001b[0;34m.\u001b[0m\u001b[0m_send_request\u001b[0m\u001b[0;34m(\u001b[0m\u001b[0mmethod\u001b[0m\u001b[0;34m,\u001b[0m \u001b[0murl\u001b[0m\u001b[0;34m,\u001b[0m \u001b[0mbody\u001b[0m\u001b[0;34m,\u001b[0m \u001b[0mheaders\u001b[0m\u001b[0;34m,\u001b[0m \u001b[0mencode_chunked\u001b[0m\u001b[0;34m)\u001b[0m\u001b[0;34m\u001b[0m\u001b[0m\n\u001b[0m\u001b[1;32m   1240\u001b[0m \u001b[0;34m\u001b[0m\u001b[0m\n",
      "\u001b[0;32m//anaconda/lib/python3.6/http/client.py\u001b[0m in \u001b[0;36m_send_request\u001b[0;34m(self, method, url, body, headers, encode_chunked)\u001b[0m\n\u001b[1;32m   1284\u001b[0m             \u001b[0mbody\u001b[0m \u001b[0;34m=\u001b[0m \u001b[0m_encode\u001b[0m\u001b[0;34m(\u001b[0m\u001b[0mbody\u001b[0m\u001b[0;34m,\u001b[0m \u001b[0;34m'body'\u001b[0m\u001b[0;34m)\u001b[0m\u001b[0;34m\u001b[0m\u001b[0m\n\u001b[0;32m-> 1285\u001b[0;31m         \u001b[0mself\u001b[0m\u001b[0;34m.\u001b[0m\u001b[0mendheaders\u001b[0m\u001b[0;34m(\u001b[0m\u001b[0mbody\u001b[0m\u001b[0;34m,\u001b[0m \u001b[0mencode_chunked\u001b[0m\u001b[0;34m=\u001b[0m\u001b[0mencode_chunked\u001b[0m\u001b[0;34m)\u001b[0m\u001b[0;34m\u001b[0m\u001b[0m\n\u001b[0m\u001b[1;32m   1286\u001b[0m \u001b[0;34m\u001b[0m\u001b[0m\n",
      "\u001b[0;32m//anaconda/lib/python3.6/http/client.py\u001b[0m in \u001b[0;36mendheaders\u001b[0;34m(self, message_body, encode_chunked)\u001b[0m\n\u001b[1;32m   1233\u001b[0m             \u001b[0;32mraise\u001b[0m \u001b[0mCannotSendHeader\u001b[0m\u001b[0;34m(\u001b[0m\u001b[0;34m)\u001b[0m\u001b[0;34m\u001b[0m\u001b[0m\n\u001b[0;32m-> 1234\u001b[0;31m         \u001b[0mself\u001b[0m\u001b[0;34m.\u001b[0m\u001b[0m_send_output\u001b[0m\u001b[0;34m(\u001b[0m\u001b[0mmessage_body\u001b[0m\u001b[0;34m,\u001b[0m \u001b[0mencode_chunked\u001b[0m\u001b[0;34m=\u001b[0m\u001b[0mencode_chunked\u001b[0m\u001b[0;34m)\u001b[0m\u001b[0;34m\u001b[0m\u001b[0m\n\u001b[0m\u001b[1;32m   1235\u001b[0m \u001b[0;34m\u001b[0m\u001b[0m\n",
      "\u001b[0;32m//anaconda/lib/python3.6/http/client.py\u001b[0m in \u001b[0;36m_send_output\u001b[0;34m(self, message_body, encode_chunked)\u001b[0m\n\u001b[1;32m   1025\u001b[0m         \u001b[0;32mdel\u001b[0m \u001b[0mself\u001b[0m\u001b[0;34m.\u001b[0m\u001b[0m_buffer\u001b[0m\u001b[0;34m[\u001b[0m\u001b[0;34m:\u001b[0m\u001b[0;34m]\u001b[0m\u001b[0;34m\u001b[0m\u001b[0m\n\u001b[0;32m-> 1026\u001b[0;31m         \u001b[0mself\u001b[0m\u001b[0;34m.\u001b[0m\u001b[0msend\u001b[0m\u001b[0;34m(\u001b[0m\u001b[0mmsg\u001b[0m\u001b[0;34m)\u001b[0m\u001b[0;34m\u001b[0m\u001b[0m\n\u001b[0m\u001b[1;32m   1027\u001b[0m \u001b[0;34m\u001b[0m\u001b[0m\n",
      "\u001b[0;32m//anaconda/lib/python3.6/http/client.py\u001b[0m in \u001b[0;36msend\u001b[0;34m(self, data)\u001b[0m\n\u001b[1;32m    963\u001b[0m             \u001b[0;32mif\u001b[0m \u001b[0mself\u001b[0m\u001b[0;34m.\u001b[0m\u001b[0mauto_open\u001b[0m\u001b[0;34m:\u001b[0m\u001b[0;34m\u001b[0m\u001b[0m\n\u001b[0;32m--> 964\u001b[0;31m                 \u001b[0mself\u001b[0m\u001b[0;34m.\u001b[0m\u001b[0mconnect\u001b[0m\u001b[0;34m(\u001b[0m\u001b[0;34m)\u001b[0m\u001b[0;34m\u001b[0m\u001b[0m\n\u001b[0m\u001b[1;32m    965\u001b[0m             \u001b[0;32melse\u001b[0m\u001b[0;34m:\u001b[0m\u001b[0;34m\u001b[0m\u001b[0m\n",
      "\u001b[0;32m//anaconda/lib/python3.6/http/client.py\u001b[0m in \u001b[0;36mconnect\u001b[0;34m(self)\u001b[0m\n\u001b[1;32m   1399\u001b[0m             self.sock = self._context.wrap_socket(self.sock,\n\u001b[0;32m-> 1400\u001b[0;31m                                                   server_hostname=server_hostname)\n\u001b[0m\u001b[1;32m   1401\u001b[0m             \u001b[0;32mif\u001b[0m \u001b[0;32mnot\u001b[0m \u001b[0mself\u001b[0m\u001b[0;34m.\u001b[0m\u001b[0m_context\u001b[0m\u001b[0;34m.\u001b[0m\u001b[0mcheck_hostname\u001b[0m \u001b[0;32mand\u001b[0m \u001b[0mself\u001b[0m\u001b[0;34m.\u001b[0m\u001b[0m_check_hostname\u001b[0m\u001b[0;34m:\u001b[0m\u001b[0;34m\u001b[0m\u001b[0m\n",
      "\u001b[0;32m//anaconda/lib/python3.6/ssl.py\u001b[0m in \u001b[0;36mwrap_socket\u001b[0;34m(self, sock, server_side, do_handshake_on_connect, suppress_ragged_eofs, server_hostname, session)\u001b[0m\n\u001b[1;32m    400\u001b[0m                          \u001b[0mserver_hostname\u001b[0m\u001b[0;34m=\u001b[0m\u001b[0mserver_hostname\u001b[0m\u001b[0;34m,\u001b[0m\u001b[0;34m\u001b[0m\u001b[0m\n\u001b[0;32m--> 401\u001b[0;31m                          _context=self, _session=session)\n\u001b[0m\u001b[1;32m    402\u001b[0m \u001b[0;34m\u001b[0m\u001b[0m\n",
      "\u001b[0;32m//anaconda/lib/python3.6/ssl.py\u001b[0m in \u001b[0;36m__init__\u001b[0;34m(self, sock, keyfile, certfile, server_side, cert_reqs, ssl_version, ca_certs, do_handshake_on_connect, family, type, proto, fileno, suppress_ragged_eofs, npn_protocols, ciphers, server_hostname, _context, _session)\u001b[0m\n\u001b[1;32m    807\u001b[0m                         \u001b[0;32mraise\u001b[0m \u001b[0mValueError\u001b[0m\u001b[0;34m(\u001b[0m\u001b[0;34m\"do_handshake_on_connect should not be specified for non-blocking sockets\"\u001b[0m\u001b[0;34m)\u001b[0m\u001b[0;34m\u001b[0m\u001b[0m\n\u001b[0;32m--> 808\u001b[0;31m                     \u001b[0mself\u001b[0m\u001b[0;34m.\u001b[0m\u001b[0mdo_handshake\u001b[0m\u001b[0;34m(\u001b[0m\u001b[0;34m)\u001b[0m\u001b[0;34m\u001b[0m\u001b[0m\n\u001b[0m\u001b[1;32m    809\u001b[0m \u001b[0;34m\u001b[0m\u001b[0m\n",
      "\u001b[0;32m//anaconda/lib/python3.6/ssl.py\u001b[0m in \u001b[0;36mdo_handshake\u001b[0;34m(self, block)\u001b[0m\n\u001b[1;32m   1060\u001b[0m                 \u001b[0mself\u001b[0m\u001b[0;34m.\u001b[0m\u001b[0msettimeout\u001b[0m\u001b[0;34m(\u001b[0m\u001b[0;32mNone\u001b[0m\u001b[0;34m)\u001b[0m\u001b[0;34m\u001b[0m\u001b[0m\n\u001b[0;32m-> 1061\u001b[0;31m             \u001b[0mself\u001b[0m\u001b[0;34m.\u001b[0m\u001b[0m_sslobj\u001b[0m\u001b[0;34m.\u001b[0m\u001b[0mdo_handshake\u001b[0m\u001b[0;34m(\u001b[0m\u001b[0;34m)\u001b[0m\u001b[0;34m\u001b[0m\u001b[0m\n\u001b[0m\u001b[1;32m   1062\u001b[0m         \u001b[0;32mfinally\u001b[0m\u001b[0;34m:\u001b[0m\u001b[0;34m\u001b[0m\u001b[0m\n",
      "\u001b[0;32m//anaconda/lib/python3.6/ssl.py\u001b[0m in \u001b[0;36mdo_handshake\u001b[0;34m(self)\u001b[0m\n\u001b[1;32m    682\u001b[0m         \u001b[0;34m\"\"\"Start the SSL/TLS handshake.\"\"\"\u001b[0m\u001b[0;34m\u001b[0m\u001b[0m\n\u001b[0;32m--> 683\u001b[0;31m         \u001b[0mself\u001b[0m\u001b[0;34m.\u001b[0m\u001b[0m_sslobj\u001b[0m\u001b[0;34m.\u001b[0m\u001b[0mdo_handshake\u001b[0m\u001b[0;34m(\u001b[0m\u001b[0;34m)\u001b[0m\u001b[0;34m\u001b[0m\u001b[0m\n\u001b[0m\u001b[1;32m    684\u001b[0m         \u001b[0;32mif\u001b[0m \u001b[0mself\u001b[0m\u001b[0;34m.\u001b[0m\u001b[0mcontext\u001b[0m\u001b[0;34m.\u001b[0m\u001b[0mcheck_hostname\u001b[0m\u001b[0;34m:\u001b[0m\u001b[0;34m\u001b[0m\u001b[0m\n",
      "\u001b[0;31mSSLEOFError\u001b[0m: EOF occurred in violation of protocol (_ssl.c:749)",
      "\nDuring handling of the above exception, another exception occurred:\n",
      "\u001b[0;31mURLError\u001b[0m                                  Traceback (most recent call last)",
      "\u001b[0;32m<ipython-input-3-ceb97052bbc9>\u001b[0m in \u001b[0;36m<module>\u001b[0;34m()\u001b[0m\n\u001b[0;32m----> 1\u001b[0;31m \u001b[0mplayers_df\u001b[0m \u001b[0;34m=\u001b[0m \u001b[0mscrape_projections\u001b[0m\u001b[0;34m(\u001b[0m\u001b[0;34m)\u001b[0m\u001b[0;34m\u001b[0m\u001b[0m\n\u001b[0m",
      "\u001b[0;32m<ipython-input-2-9b9f08c43df9>\u001b[0m in \u001b[0;36mscrape_projections\u001b[0;34m()\u001b[0m\n\u001b[1;32m     19\u001b[0m                     \u001b[0mlink\u001b[0m \u001b[0;34m=\u001b[0m \u001b[0;34m'https://www.fantasypros.com'\u001b[0m \u001b[0;34m+\u001b[0m \u001b[0mplayer\u001b[0m\u001b[0;34m.\u001b[0m\u001b[0ma\u001b[0m\u001b[0;34m[\u001b[0m\u001b[0;34m'href'\u001b[0m\u001b[0;34m]\u001b[0m\u001b[0;34m.\u001b[0m\u001b[0mreplace\u001b[0m\u001b[0;34m(\u001b[0m\u001b[0;34m'players'\u001b[0m\u001b[0;34m,\u001b[0m\u001b[0;34m'projections'\u001b[0m\u001b[0;34m)\u001b[0m\u001b[0;34m\u001b[0m\u001b[0m\n\u001b[1;32m     20\u001b[0m                     \u001b[0mlink\u001b[0m \u001b[0;34m=\u001b[0m \u001b[0mlink\u001b[0m \u001b[0;34m+\u001b[0m \u001b[0;34m'?scoring=HALF'\u001b[0m \u001b[0;32mif\u001b[0m \u001b[0mp_proj\u001b[0m\u001b[0;34m[\u001b[0m\u001b[0;34m'Position'\u001b[0m\u001b[0;34m]\u001b[0m \u001b[0;34m!=\u001b[0m \u001b[0;34m'QB'\u001b[0m \u001b[0;32mand\u001b[0m \u001b[0mp_proj\u001b[0m\u001b[0;34m[\u001b[0m\u001b[0;34m'Position'\u001b[0m\u001b[0;34m]\u001b[0m \u001b[0;34m!=\u001b[0m \u001b[0;34m'K'\u001b[0m \u001b[0;32melse\u001b[0m \u001b[0mlink\u001b[0m\u001b[0;34m\u001b[0m\u001b[0m\n\u001b[0;32m---> 21\u001b[0;31m                     \u001b[0mp_soup\u001b[0m \u001b[0;34m=\u001b[0m \u001b[0mBeautifulSoup\u001b[0m\u001b[0;34m(\u001b[0m\u001b[0murlopen\u001b[0m\u001b[0;34m(\u001b[0m\u001b[0mlink\u001b[0m\u001b[0;34m)\u001b[0m\u001b[0;34m.\u001b[0m\u001b[0mread\u001b[0m\u001b[0;34m(\u001b[0m\u001b[0;34m)\u001b[0m\u001b[0;34m,\u001b[0m \u001b[0;34m'lxml'\u001b[0m\u001b[0;34m)\u001b[0m\u001b[0;34m\u001b[0m\u001b[0m\n\u001b[0m\u001b[1;32m     22\u001b[0m                     \u001b[0mp_table\u001b[0m \u001b[0;34m=\u001b[0m \u001b[0mp_soup\u001b[0m\u001b[0;34m.\u001b[0m\u001b[0mfindAll\u001b[0m\u001b[0;34m(\u001b[0m\u001b[0;34m'table'\u001b[0m\u001b[0;34m,\u001b[0m \u001b[0;34m{\u001b[0m\u001b[0;34m'class'\u001b[0m\u001b[0;34m:\u001b[0m \u001b[0;34m'table table-bordered all-stats'\u001b[0m\u001b[0;34m}\u001b[0m\u001b[0;34m)\u001b[0m\u001b[0;34m[\u001b[0m\u001b[0;36m1\u001b[0m\u001b[0;34m]\u001b[0m\u001b[0;34m\u001b[0m\u001b[0m\n\u001b[1;32m     23\u001b[0m                     \u001b[0mp_proj\u001b[0m\u001b[0;34m.\u001b[0m\u001b[0mupdate\u001b[0m\u001b[0;34m(\u001b[0m\u001b[0mdict\u001b[0m\u001b[0;34m(\u001b[0m\u001b[0mzip\u001b[0m\u001b[0;34m(\u001b[0m\u001b[0;34m[\u001b[0m\u001b[0mcat\u001b[0m\u001b[0;34m.\u001b[0m\u001b[0mstring\u001b[0m \u001b[0;32mfor\u001b[0m \u001b[0mcat\u001b[0m \u001b[0;32min\u001b[0m \u001b[0mp_table\u001b[0m\u001b[0;34m.\u001b[0m\u001b[0mfind\u001b[0m\u001b[0;34m(\u001b[0m\u001b[0;34m'thead'\u001b[0m\u001b[0;34m)\u001b[0m\u001b[0;34m.\u001b[0m\u001b[0mfindAll\u001b[0m\u001b[0;34m(\u001b[0m\u001b[0;34m'th'\u001b[0m\u001b[0;34m)\u001b[0m\u001b[0;34m]\u001b[0m\u001b[0;34m,\u001b[0m \u001b[0;34m[\u001b[0m\u001b[0mfloat\u001b[0m\u001b[0;34m(\u001b[0m\u001b[0mstat\u001b[0m\u001b[0;34m.\u001b[0m\u001b[0mstring\u001b[0m\u001b[0;34m)\u001b[0m \u001b[0;32mfor\u001b[0m \u001b[0mstat\u001b[0m \u001b[0;32min\u001b[0m \u001b[0mp_table\u001b[0m\u001b[0;34m.\u001b[0m\u001b[0mfind\u001b[0m\u001b[0;34m(\u001b[0m\u001b[0;34m'tbody'\u001b[0m\u001b[0;34m)\u001b[0m\u001b[0;34m.\u001b[0m\u001b[0mfindAll\u001b[0m\u001b[0;34m(\u001b[0m\u001b[0;34m'td'\u001b[0m\u001b[0;34m)\u001b[0m\u001b[0;34m]\u001b[0m\u001b[0;34m)\u001b[0m\u001b[0;34m)\u001b[0m\u001b[0;34m)\u001b[0m\u001b[0;34m\u001b[0m\u001b[0m\n",
      "\u001b[0;32m//anaconda/lib/python3.6/urllib/request.py\u001b[0m in \u001b[0;36murlopen\u001b[0;34m(url, data, timeout, cafile, capath, cadefault, context)\u001b[0m\n\u001b[1;32m    221\u001b[0m     \u001b[0;32melse\u001b[0m\u001b[0;34m:\u001b[0m\u001b[0;34m\u001b[0m\u001b[0m\n\u001b[1;32m    222\u001b[0m         \u001b[0mopener\u001b[0m \u001b[0;34m=\u001b[0m \u001b[0m_opener\u001b[0m\u001b[0;34m\u001b[0m\u001b[0m\n\u001b[0;32m--> 223\u001b[0;31m     \u001b[0;32mreturn\u001b[0m \u001b[0mopener\u001b[0m\u001b[0;34m.\u001b[0m\u001b[0mopen\u001b[0m\u001b[0;34m(\u001b[0m\u001b[0murl\u001b[0m\u001b[0;34m,\u001b[0m \u001b[0mdata\u001b[0m\u001b[0;34m,\u001b[0m \u001b[0mtimeout\u001b[0m\u001b[0;34m)\u001b[0m\u001b[0;34m\u001b[0m\u001b[0m\n\u001b[0m\u001b[1;32m    224\u001b[0m \u001b[0;34m\u001b[0m\u001b[0m\n\u001b[1;32m    225\u001b[0m \u001b[0;32mdef\u001b[0m \u001b[0minstall_opener\u001b[0m\u001b[0;34m(\u001b[0m\u001b[0mopener\u001b[0m\u001b[0;34m)\u001b[0m\u001b[0;34m:\u001b[0m\u001b[0;34m\u001b[0m\u001b[0m\n",
      "\u001b[0;32m//anaconda/lib/python3.6/urllib/request.py\u001b[0m in \u001b[0;36mopen\u001b[0;34m(self, fullurl, data, timeout)\u001b[0m\n\u001b[1;32m    524\u001b[0m             \u001b[0mreq\u001b[0m \u001b[0;34m=\u001b[0m \u001b[0mmeth\u001b[0m\u001b[0;34m(\u001b[0m\u001b[0mreq\u001b[0m\u001b[0;34m)\u001b[0m\u001b[0;34m\u001b[0m\u001b[0m\n\u001b[1;32m    525\u001b[0m \u001b[0;34m\u001b[0m\u001b[0m\n\u001b[0;32m--> 526\u001b[0;31m         \u001b[0mresponse\u001b[0m \u001b[0;34m=\u001b[0m \u001b[0mself\u001b[0m\u001b[0;34m.\u001b[0m\u001b[0m_open\u001b[0m\u001b[0;34m(\u001b[0m\u001b[0mreq\u001b[0m\u001b[0;34m,\u001b[0m \u001b[0mdata\u001b[0m\u001b[0;34m)\u001b[0m\u001b[0;34m\u001b[0m\u001b[0m\n\u001b[0m\u001b[1;32m    527\u001b[0m \u001b[0;34m\u001b[0m\u001b[0m\n\u001b[1;32m    528\u001b[0m         \u001b[0;31m# post-process response\u001b[0m\u001b[0;34m\u001b[0m\u001b[0;34m\u001b[0m\u001b[0m\n",
      "\u001b[0;32m//anaconda/lib/python3.6/urllib/request.py\u001b[0m in \u001b[0;36m_open\u001b[0;34m(self, req, data)\u001b[0m\n\u001b[1;32m    542\u001b[0m         \u001b[0mprotocol\u001b[0m \u001b[0;34m=\u001b[0m \u001b[0mreq\u001b[0m\u001b[0;34m.\u001b[0m\u001b[0mtype\u001b[0m\u001b[0;34m\u001b[0m\u001b[0m\n\u001b[1;32m    543\u001b[0m         result = self._call_chain(self.handle_open, protocol, protocol +\n\u001b[0;32m--> 544\u001b[0;31m                                   '_open', req)\n\u001b[0m\u001b[1;32m    545\u001b[0m         \u001b[0;32mif\u001b[0m \u001b[0mresult\u001b[0m\u001b[0;34m:\u001b[0m\u001b[0;34m\u001b[0m\u001b[0m\n\u001b[1;32m    546\u001b[0m             \u001b[0;32mreturn\u001b[0m \u001b[0mresult\u001b[0m\u001b[0;34m\u001b[0m\u001b[0m\n",
      "\u001b[0;32m//anaconda/lib/python3.6/urllib/request.py\u001b[0m in \u001b[0;36m_call_chain\u001b[0;34m(self, chain, kind, meth_name, *args)\u001b[0m\n\u001b[1;32m    502\u001b[0m         \u001b[0;32mfor\u001b[0m \u001b[0mhandler\u001b[0m \u001b[0;32min\u001b[0m \u001b[0mhandlers\u001b[0m\u001b[0;34m:\u001b[0m\u001b[0;34m\u001b[0m\u001b[0m\n\u001b[1;32m    503\u001b[0m             \u001b[0mfunc\u001b[0m \u001b[0;34m=\u001b[0m \u001b[0mgetattr\u001b[0m\u001b[0;34m(\u001b[0m\u001b[0mhandler\u001b[0m\u001b[0;34m,\u001b[0m \u001b[0mmeth_name\u001b[0m\u001b[0;34m)\u001b[0m\u001b[0;34m\u001b[0m\u001b[0m\n\u001b[0;32m--> 504\u001b[0;31m             \u001b[0mresult\u001b[0m \u001b[0;34m=\u001b[0m \u001b[0mfunc\u001b[0m\u001b[0;34m(\u001b[0m\u001b[0;34m*\u001b[0m\u001b[0margs\u001b[0m\u001b[0;34m)\u001b[0m\u001b[0;34m\u001b[0m\u001b[0m\n\u001b[0m\u001b[1;32m    505\u001b[0m             \u001b[0;32mif\u001b[0m \u001b[0mresult\u001b[0m \u001b[0;32mis\u001b[0m \u001b[0;32mnot\u001b[0m \u001b[0;32mNone\u001b[0m\u001b[0;34m:\u001b[0m\u001b[0;34m\u001b[0m\u001b[0m\n\u001b[1;32m    506\u001b[0m                 \u001b[0;32mreturn\u001b[0m \u001b[0mresult\u001b[0m\u001b[0;34m\u001b[0m\u001b[0m\n",
      "\u001b[0;32m//anaconda/lib/python3.6/urllib/request.py\u001b[0m in \u001b[0;36mhttps_open\u001b[0;34m(self, req)\u001b[0m\n\u001b[1;32m   1359\u001b[0m         \u001b[0;32mdef\u001b[0m \u001b[0mhttps_open\u001b[0m\u001b[0;34m(\u001b[0m\u001b[0mself\u001b[0m\u001b[0;34m,\u001b[0m \u001b[0mreq\u001b[0m\u001b[0;34m)\u001b[0m\u001b[0;34m:\u001b[0m\u001b[0;34m\u001b[0m\u001b[0m\n\u001b[1;32m   1360\u001b[0m             return self.do_open(http.client.HTTPSConnection, req,\n\u001b[0;32m-> 1361\u001b[0;31m                 context=self._context, check_hostname=self._check_hostname)\n\u001b[0m\u001b[1;32m   1362\u001b[0m \u001b[0;34m\u001b[0m\u001b[0m\n\u001b[1;32m   1363\u001b[0m         \u001b[0mhttps_request\u001b[0m \u001b[0;34m=\u001b[0m \u001b[0mAbstractHTTPHandler\u001b[0m\u001b[0;34m.\u001b[0m\u001b[0mdo_request_\u001b[0m\u001b[0;34m\u001b[0m\u001b[0m\n",
      "\u001b[0;32m//anaconda/lib/python3.6/urllib/request.py\u001b[0m in \u001b[0;36mdo_open\u001b[0;34m(self, http_class, req, **http_conn_args)\u001b[0m\n\u001b[1;32m   1318\u001b[0m                           encode_chunked=req.has_header('Transfer-encoding'))\n\u001b[1;32m   1319\u001b[0m             \u001b[0;32mexcept\u001b[0m \u001b[0mOSError\u001b[0m \u001b[0;32mas\u001b[0m \u001b[0merr\u001b[0m\u001b[0;34m:\u001b[0m \u001b[0;31m# timeout error\u001b[0m\u001b[0;34m\u001b[0m\u001b[0m\n\u001b[0;32m-> 1320\u001b[0;31m                 \u001b[0;32mraise\u001b[0m \u001b[0mURLError\u001b[0m\u001b[0;34m(\u001b[0m\u001b[0merr\u001b[0m\u001b[0;34m)\u001b[0m\u001b[0;34m\u001b[0m\u001b[0m\n\u001b[0m\u001b[1;32m   1321\u001b[0m             \u001b[0mr\u001b[0m \u001b[0;34m=\u001b[0m \u001b[0mh\u001b[0m\u001b[0;34m.\u001b[0m\u001b[0mgetresponse\u001b[0m\u001b[0;34m(\u001b[0m\u001b[0;34m)\u001b[0m\u001b[0;34m\u001b[0m\u001b[0m\n\u001b[1;32m   1322\u001b[0m         \u001b[0;32mexcept\u001b[0m\u001b[0;34m:\u001b[0m\u001b[0;34m\u001b[0m\u001b[0m\n",
      "\u001b[0;31mURLError\u001b[0m: <urlopen error EOF occurred in violation of protocol (_ssl.c:749)>"
     ]
    }
   ],
   "source": [
    "players_df = scrape_projections()"
   ]
  },
  {
   "cell_type": "code",
   "execution_count": null,
   "metadata": {
    "collapsed": true,
    "scrolled": true
   },
   "outputs": [],
   "source": [
    "players_df.to_csv('fpros_player_projections.csv', index=False)\n",
    "# players_df = pd.read_csv('fpros_player_projections.csv')\n",
    "# players_df = players_df[['Name','Position','Points']].sort_values(by='Points',ascending=False).reset_index(drop=True)"
   ]
  },
  {
   "cell_type": "code",
   "execution_count": null,
   "metadata": {
    "collapsed": true
   },
   "outputs": [],
   "source": [
    "# number fire ROS projections link: https://www.numberfire.com/nfl/fantasy/remaining-projections\n",
    "nf_players_df = pd.read_csv('nf_player_projections.csv')"
   ]
  },
  {
   "cell_type": "code",
   "execution_count": null,
   "metadata": {
    "collapsed": true
   },
   "outputs": [],
   "source": [
    "def calc_ppr_points(row):\n",
    "    return row['StdPts'] + row['Rec']/2.0\n",
    "def calc_ppr_ratio(row):\n",
    "    return row['NF Points']/row['StdPts']\n",
    "def calc_ppr_CI(row,CI):\n",
    "    return row[CI]*row['Ratio']\n",
    "\n",
    "nf_players_df['NF Points'] = nf_players_df.apply(lambda row: calc_ppr_points(row), axis=1)\n",
    "nf_players_df['Ratio'] = nf_players_df.apply(lambda row: calc_ppr_ratio(row), axis=1)\n",
    "nf_players_df['NF Lower CI'] = nf_players_df.apply(lambda row: calc_ppr_CI(row,'LowerCI'), axis=1)\n",
    "nf_players_df['NF Upper CI'] = nf_players_df.apply(lambda row: calc_ppr_CI(row,'UpperCI'), axis=1)\n",
    "nf_players_df = nf_players_df[['Name','Position','Team','NF Points','NF Lower CI','NF Upper CI']]\n",
    "nf_players_df = nf_players_df.set_index(['Name','Position','Team'])"
   ]
  },
  {
   "cell_type": "code",
   "execution_count": null,
   "metadata": {},
   "outputs": [],
   "source": [
    "full_name = players_df['Name']\n",
    "players_df['Name'] = players_df['Name'].apply(lambda name: name[0]+'. ' + HumanName(name).last)\n",
    "j_players_df = players_df.join(nf_players_df, on=['Name','Position','Team'])\n",
    "j_players_df['FP Points'] = j_players_df['Points']\n",
    "players_df = j_players_df[['Name','Position','Team', 'FP Points', 'NF Points', 'NF Lower CI', 'NF Upper CI']]"
   ]
  },
  {
   "cell_type": "code",
   "execution_count": null,
   "metadata": {},
   "outputs": [],
   "source": [
    "players_df.head()"
   ]
  },
  {
   "cell_type": "code",
   "execution_count": null,
   "metadata": {
    "collapsed": true
   },
   "outputs": [],
   "source": [
    "players_df.head()"
   ]
  },
  {
   "cell_type": "code",
   "execution_count": null,
   "metadata": {
    "collapsed": true
   },
   "outputs": [],
   "source": [
    "j_players_df.head()"
   ]
  },
  {
   "cell_type": "code",
   "execution_count": null,
   "metadata": {
    "collapsed": true
   },
   "outputs": [],
   "source": [
    "def project_player(name, site, stat_type):\n",
    "    if np.count_nonzero(players_df.Name.isin([name])):\n",
    "        return players_df[players_df['Name'] == name]['{0} {1}'.format(site, stat_type)].iloc[0]\n",
    "    else:\n",
    "        return 0"
   ]
  },
  {
   "cell_type": "code",
   "execution_count": null,
   "metadata": {
    "collapsed": true,
    "scrolled": true
   },
   "outputs": [],
   "source": [
    "# league must be publicly viewable\n",
    "def scrape_teams(league_link='http://games.espn.com/ffl/clubhouse?leagueId=1744757&teamId={0}&seasonId=2017'):\n",
    "    position_list = ['QB','RB1','RB2','WR1','WR2','TE','FLEX','DST','K','Bench1','Bench2','Bench3','Bench4','Bench5','Bench6','Bench7']\n",
    "    teams_list = []\n",
    "    for i in range(1,11):\n",
    "        try:\n",
    "            req = Request(league_link.format(i), headers={ 'User-Agent': 'Mozilla/5.0 (Macintosh; Intel Mac OS X 10_12_3) AppleWebKit/537.36 (KHTML, like Gecko) Chrome/60.0.3112.113 Safari/537.36'})\n",
    "            team_soup = BeautifulSoup(urlopen(req).read(), 'lxml')\n",
    "            roster = {'Owner': team_soup.find('li',{'class':'per-info'}).string}\n",
    "            roster.update(dict(zip(position_list, [player.a.string.replace(' D/ST','').replace(' Jr.', '').replace(' Sr.','') for player in team_soup.findAll('td', {'class': 'playertablePlayerName'})])))\n",
    "            teams_list.append(roster)\n",
    "            print(\"Scraped {0} Roster\".format(roster['Owner']))\n",
    "        except Exception as e:\n",
    "            print(e.code)\n",
    "\n",
    "    teams_df = pd.DataFrame(teams_list)\n",
    "    for col in list(teams_df.columns[0:10]) + list(teams_df.columns[11:]):\n",
    "            teams_df[col + '_FP_Projection'] = teams_df[col].apply(lambda p: project_player(p, 'FP', 'Points'))\n",
    "            teams_df[col + '_NF_Projection'] = teams_df[col].apply(lambda p: project_player(p, 'NF', 'Points'))\n",
    "            teams_df[col + '_NF_Lower_CI'] = teams_df[col].apply(lambda p: project_player(p, 'NF', 'Lower CI'))\n",
    "            teams_df[col + '_NF_Upper_CI'] = teams_df[col].apply(lambda p: project_player(p, 'NF', 'Upper CI'))\n",
    "    return teams_df"
   ]
  },
  {
   "cell_type": "code",
   "execution_count": null,
   "metadata": {
    "collapsed": true
   },
   "outputs": [],
   "source": [
    "teams_df = scrape_teams()"
   ]
  },
  {
   "cell_type": "code",
   "execution_count": null,
   "metadata": {
    "collapsed": true
   },
   "outputs": [],
   "source": [
    "def valid_substitute(name, position):\n",
    "    if np.count_nonzero(players_df.Name.isin([name])):\n",
    "        if players_df[players_df['Name'] == name]['Position'].iloc[0] == re.sub(r'\\d+', '', position):\n",
    "            return True\n",
    "        if players_df[players_df['Name'] == name]['Flex'].iloc[0] and position == 'FLEX':\n",
    "            return True\n",
    "    if 'Bench' in position:\n",
    "        return True\n",
    "    else:\n",
    "        return False"
   ]
  },
  {
   "cell_type": "code",
   "execution_count": null,
   "metadata": {
    "collapsed": true
   },
   "outputs": [],
   "source": [
    "def construct_new_team(team_dict, players_lost, players_acquired):\n",
    "    new_team_dict = dict(team_dict)\n",
    "    unfilled_positions = []\n",
    "    \n",
    "    for key, value in team_dict.items():\n",
    "        if value in players_lost:\n",
    "            unfilled_positions.append(key)\n",
    "            new_team_dict[key] = ''\n",
    "            new_team_dict[key + '_FP_Projection'] = 0\n",
    "            new_team_dict[key + '_NF_Projection'] = 0\n",
    "            new_team_dict[key + '_NF_Lower_CI'] = 0\n",
    "            new_team_dict[key + '_NF_Upper_CI'] = 0\n",
    "    \n",
    "    players_acquired_iter = players_acquired\n",
    "    moved = []\n",
    "    unfilled_positions = [pos for pos in unfilled_positions if 'Bench' not in pos] + [pos for pos in unfilled_positions if 'Bench' in pos]\n",
    "    \n",
    "    while len(unfilled_positions) > 0:\n",
    "        # first fill out starters with a combination of the acquired players and your bench, whichever is best\n",
    "        u_pos = unfilled_positions[0]\n",
    "        potential_subs = []\n",
    "        \n",
    "        for key, value in new_team_dict.items():\n",
    "            if '_' not in key and value != '':\n",
    "                if valid_substitute(value, u_pos) and value not in moved:\n",
    "                    potential_subs.append(value)\n",
    "        for p_acq in players_acquired_iter:\n",
    "            if valid_substitute(p_acq, u_pos):\n",
    "                potential_subs.append(p_acq)\n",
    "        \n",
    "        best_performer = '', 0\n",
    "        for i, pot_sub in enumerate(potential_subs):\n",
    "            pot_sub_proj = project_player(pot_sub, sort_by, 'Points')\n",
    "            if pot_sub_proj > best_performer[1]:\n",
    "                best_performer = pot_sub, pot_sub_proj\n",
    "\n",
    "        if best_performer[0] in players_acquired_iter:\n",
    "            players_acquired_iter.remove(best_performer[0])\n",
    "            unfilled_positions.pop(0)\n",
    "            moved.append(best_performer[0])\n",
    "            \n",
    "        else:\n",
    "            for key in new_team_dict.keys():\n",
    "                if best_performer[0] == new_team_dict[key]:\n",
    "                    new_team_dict[key] = ''\n",
    "                    new_team_dict[key + '_FP_Projection'] = 0\n",
    "                    new_team_dict[key + '_NF_Projection'] = 0\n",
    "                    new_team_dict[key + '_NF_Lower_CI'] = 0\n",
    "                    new_team_dict[key + '_NF_Upper_CI'] = 0\n",
    "                    unfilled_positions.pop(0)\n",
    "                    unfilled_positions.append(key)\n",
    "                    moved.append(best_performer[0])\n",
    "                    \n",
    "        new_team_dict[u_pos] = str(best_performer[0])\n",
    "        new_team_dict[u_pos + '_FP_Projection'] = project_player(new_team_dict[u_pos],'FP','Points')\n",
    "        new_team_dict[u_pos + '_NF_Projection'] = project_player(new_team_dict[u_pos],'NF','Points')\n",
    "        new_team_dict[u_pos + '_NF_Lower_CI'] = project_player(new_team_dict[u_pos],'NF','Lower CI')\n",
    "        new_team_dict[u_pos + '_NF_Upper_CI'] = project_player(new_team_dict[u_pos],'NF','Upper CI')\n",
    "    \n",
    "    \n",
    "        if all([True if 'Bench' in val else False for val in unfilled_positions]):\n",
    "            # only bench players left to fill up\n",
    "            break\n",
    "    \n",
    "    while len(unfilled_positions) > 0:\n",
    "        # then fill out bench with the displaced players\n",
    "        # this loop handles the event where players  are traded to your team that weren't good enough to start\n",
    "        # this case is handled by taking these players and filling out the remainder of your bench\n",
    "        u_pos = unfilled_positions[0]\n",
    "        new_team_dict[u_pos] = str(players_acquired_iter[0])\n",
    "        new_team_dict[u_pos + '_FP_Projection'] = project_player(new_team_dict[u_pos],'FP','Points')\n",
    "        new_team_dict[u_pos + '_NF_Projection'] = project_player(new_team_dict[u_pos],'NF','Points')\n",
    "        new_team_dict[u_pos + '_NF_Lower_CI'] = project_player(new_team_dict[u_pos],'NF','Lower CI')\n",
    "        new_team_dict[u_pos + '_NF_Upper_CI'] = project_player(new_team_dict[u_pos],'NF','Upper CI')\n",
    "        unfilled_positions.pop(0)\n",
    "        players_acquired_iter.pop(0)\n",
    "    \n",
    "    return new_team_dict"
   ]
  },
  {
   "cell_type": "code",
   "execution_count": null,
   "metadata": {
    "collapsed": true
   },
   "outputs": [],
   "source": [
    "def project_team(team_dict, sort_by='NF'):\n",
    "    bench_proj = 0\n",
    "    starters_proj = 0\n",
    "    for key in team_dict.keys():\n",
    "        if '{0}_Projection'.format(sort_by) in key and 'Bench' in key:\n",
    "            bench_proj += team_dict[key]\n",
    "        if '{0}_Projection'.format(sort_by) in key and 'Bench' not in key:\n",
    "            starters_proj += team_dict[key]\n",
    "    return starters_proj, bench_proj"
   ]
  },
  {
   "cell_type": "code",
   "execution_count": null,
   "metadata": {
    "collapsed": true
   },
   "outputs": [],
   "source": [
    "def analyze_trade(owner_1, owner_2, team_1_players, team_2_players, sort_by='NF'):\n",
    "    team_1_dict = teams_df[teams_df['Owner'] == owner_1].to_dict('records')[0]\n",
    "    team_2_dict = teams_df[teams_df['Owner'] == owner_2].to_dict('records')[0]\n",
    "    team_1_prev_proj = project_team(team_1_dict)\n",
    "    team_2_prev_proj = project_team(team_2_dict)\n",
    "    team_1_new_dict = construct_new_team(team_1_dict, team_1_players.copy(), team_2_players.copy())\n",
    "    team_2_new_dict = construct_new_team(team_2_dict, team_2_players.copy(), team_1_players.copy())\n",
    "    team_1_new_proj = project_team(team_1_new_dict)\n",
    "    team_2_new_proj = project_team(team_2_new_dict)   \n",
    "    \n",
    "    team_1_diff = tuple(np.subtract(team_1_new_proj, team_1_prev_proj))\n",
    "    team_2_diff = tuple(np.subtract(team_2_new_proj, team_2_prev_proj))\n",
    "    \n",
    "    positions = ['QB','RB1','RB2','WR1','WR2','TE','FLEX','K','DST','Bench1','Bench2','Bench3','Bench4','Bench5','Bench6']\n",
    "    \n",
    "    print('Before the Trade:')\n",
    "    print('Team 1 - Starters: {:05.2f} Bench: {:05.2f}'.format(*team_1_prev_proj))\n",
    "    print('Team 2 - Starters: {:05.2f} Bench: {:05.2f}\\n'.format(*team_2_prev_proj))\n",
    "    print('After the Trade:')\n",
    "    print('Team 1 - Starters: {:05.2f} Bench: {:05.2f}'.format(*team_1_new_proj))\n",
    "    print('Team 2 - Starters: {:05.2f} Bench: {:05.2f}\\n'.format(*team_2_new_proj))\n",
    "    print('Net Differences:')\n",
    "    print('Team 1 - Starters: {:05.2f} Bench: {:05.2f}'.format(*team_1_diff))\n",
    "    print('Team 2 - Starters: {:05.2f} Bench: {:05.2f}\\n'.format(*team_2_diff))\n",
    "    print('Team 1 - Roster:')\n",
    "    print('{:>6}: '.format('Position') + '{:20}'.format('Player Name') + '{0} Projection'.format(sort_by) + 'NF Confidence Interval')\n",
    "    for pos in positions:\n",
    "        output_str = '{:>8}: '.format(pos)\n",
    "        output_str += '{:20}'.format(team_1_new_dict[pos])\n",
    "        output_str += '{:05.2f}'.format(team_1_new_dict[pos+'_Projection'], team_1_new_dict)\n",
    "        output_str += '   ({:05.2f}~{:05.2f})'.format(team_1_new_dict[pos+'_NF_Lower_CI'],team_1_new_dict[pos+'_NF_Upper_CI'])\n",
    "        print(output_str)\n",
    "    print('\\n')\n",
    "    print('Team 2 - Roster:')\n",
    "    for pos in positions:\n",
    "        output_str = '{:>8}: '.format(pos)\n",
    "        output_str += '{:20}'.format(team_1_new_dict[pos])\n",
    "        output_str += '{:05.2f}'.format(team_1_new_dict[pos+'_Projection'], team_1_new_dict)\n",
    "        output_str += '   ({:05.2f}~{:05.2f})'.format(team_1_new_dict[pos+'_NF_Lower_CI'],team_1_new_dict[pos+'_NF_Upper_CI'])\n",
    "        print(output_str)"
   ]
  },
  {
   "cell_type": "code",
   "execution_count": null,
   "metadata": {
    "collapsed": true
   },
   "outputs": [],
   "source": [
    "analyze_trade('Surya Bahubalendruni', 'Aaron Zephir', ['Delanie Walker','Tyreek Hill', 'Tom Brady'], ['Travis Kelce', 'John Brown', 'Aaron Rodgers'])"
   ]
  },
  {
   "cell_type": "code",
   "execution_count": null,
   "metadata": {
    "collapsed": true
   },
   "outputs": [],
   "source": []
  }
 ],
 "metadata": {
  "kernelspec": {
   "display_name": "Python 3",
   "language": "python",
   "name": "python3"
  },
  "language_info": {
   "codemirror_mode": {
    "name": "ipython",
    "version": 3
   },
   "file_extension": ".py",
   "mimetype": "text/x-python",
   "name": "python",
   "nbconvert_exporter": "python",
   "pygments_lexer": "ipython3",
   "version": "3.6.0"
  }
 },
 "nbformat": 4,
 "nbformat_minor": 2
}
